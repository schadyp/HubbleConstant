{
 "cells": [
  {
   "cell_type": "markdown",
   "metadata": {},
   "source": [
    "# Expansion of the Universe\n",
    "*Based on exercises developed by Carolin Villforth, based on an experiment developed with the help of Michaela Steward*"
   ]
  },
  {
   "cell_type": "markdown",
   "metadata": {},
   "source": [
    "The expansion of the universe is one of the most fundamental discoveries in astrophysics in the last century. In this experiment, you will follow the experiments performed by Edwin Hubble, by measuring the velocity shifts and distances of nearby galaxies, and then discovering the kinematics of galaxies in the local universe. \n",
    "\n",
    "<img src=\"figures/H0overtime.png\" width=\"800\">"
   ]
  },
  {
   "cell_type": "markdown",
   "metadata": {},
   "source": [
    "# Part 1: Velocity Shifts"
   ]
  },
  {
   "cell_type": "markdown",
   "metadata": {},
   "source": [
    "In the 1920s, Hubble studied 'Nebulea' (extended objects in the sky), and it was unknown whether these nebulae were located inside or outside the Milky Way, until Hubble measured the distance to some of these Nebulae using Cepheid variables.\n",
    "\n",
    "Let's first take a look at optical spectra of two such Nebulae (NGC4258 and NGC4639) and try and classify them by comparing them to template (or model) spectra to two types of galaxy; early and late type galaxies. "
   ]
  },
  {
   "cell_type": "code",
   "execution_count": null,
   "metadata": {},
   "outputs": [],
   "source": [
    "# Load in module needed to read in ascii files\n",
    "from readfile import readspec, readLC, readdata\n",
    "from plotdata import plotspec\n",
    "import numpy as np\n",
    "import matplotlib.pyplot as plt\n",
    "\n",
    "# Read in first spectrum\n",
    "spec_ngc4258 = readspec(\"NGC4258.txt\")\n",
    "\n",
    "# Read in second spectrum\n",
    "spec_ngc4639 = readspec(\"NGC4639.txt\")\n",
    "\n",
    "# Read in early and late type galaxy templates\n",
    "spec_early = readspec(\"SDSSTemplate_Early.txt\")\n",
    "spec_late = readspec(\"SDSSTemplate_Late.txt\")\n",
    "\n",
    "plt.figure(figsize=(15,10)) # Set figure size\n",
    "plotspec(spec_ngc4258,spec_ngc4639,spec_early,spec_late) # Plot spectral data"
   ]
  },
  {
   "cell_type": "markdown",
   "metadata": {},
   "source": [
    "### 1) Which of the early and late type galaxy templates look most like the NGC spectra?\n",
    "\n",
    "### 2) Do you notice any differences?"
   ]
  },
  {
   "cell_type": "code",
   "execution_count": null,
   "metadata": {},
   "outputs": [],
   "source": [
    "# Let's zoom in\n",
    "plt.figure(figsize=(15,5)) # set figure size\n",
    "plt.subplot(1, 2, 1) # position first plot\n",
    "plotspec(spec_ngc4258,spec_ngc4639,spec_early,spec_late,xmin=4800,xmax=5100)\n",
    "plt.subplot(1,2,2) # position second plot\n",
    "plotspec(spec_ngc4258,spec_ngc4639,spec_early,spec_late,xmin=6500,xmax=6800)"
   ]
  },
  {
   "cell_type": "markdown",
   "metadata": {},
   "source": [
    "### 3) Estimate the recession velocity of the two nebulae using the location of the observed emission lines\n",
    "\n",
    "The recession velocity is given by:\n",
    "&nbsp;&nbsp;&nbsp;&nbsp;&nbsp;&nbsp;&nbsp;&nbsp;&nbsp;&nbsp;&nbsp;&nbsp;&nbsp;&nbsp;&nbsp;&nbsp;&nbsp;&nbsp;&nbsp;&nbsp;&nbsp;&nbsp;&nbsp;&nbsp;$\\nu_{rec} = cz = c\\frac{(\\lambda_{obs}-\\lambda_{em})}{\\lambda_{em}}$\n",
    "\n",
    "Note c = $2.998\\times 10^8$m/s and an Angstrom = $10^{-10}$ m\n",
    "\n",
    "You will need to know the rest wavelength of some prominant lines:\n",
    "\n",
    "\n",
    "|Line | Rest wavelength ($\\unicode{x212B}$)|\n",
    "|-----|--------------------|\n",
    "|H$\\alpha$ | 6564.6|\n",
    "|[OIII] double| 4960.3/5008.2|\n",
    "|H$\\beta$ | 4862.7|\n"
   ]
  },
  {
   "cell_type": "code",
   "execution_count": null,
   "metadata": {},
   "outputs": [],
   "source": []
  },
  {
   "cell_type": "markdown",
   "metadata": {},
   "source": [
    "### 4) Verify your solutions by shifting the wavelength of the templates above by your derived $(1+z)$ values"
   ]
  },
  {
   "cell_type": "markdown",
   "metadata": {},
   "source": [
    "# Part 2: Measuring Distances"
   ]
  },
  {
   "cell_type": "markdown",
   "metadata": {},
   "source": [
    "## Standard Candles:\n",
    "Standard candles are astronomical sources that have a known luminosity, or a luminosity that can be inferred from some observational property. One such example are Cepheids, which are stars that brighten and dim periodically with a period that is proportional to the star's luminosity.\n",
    "* How bright an object appears is proportional to its distance squared.\n",
    "* Thus if we know an objects intrinsic brightness, or luminosity, we can use the observed brightness to infer it's distance.\n",
    "\n",
    "Edwin Hubble used variable stars such as Cepheids to determine the distances to galaxies.\n",
    "\n",
    "### Brightness and magnitude\n",
    "More commonly, an object's brightness is measured in *magnitudes*, which is a logarithmic measure of flux. The brighter an object, the smaller its magnitude.\n",
    "* The *apparent magnitude* of an object is the magnitude that we, as observers, measure, and does not take into account any diffusion or attenuation of the light due to dust, for example.\n",
    "* The *absolute magnitude* of an object is the apparent magnitude that it would have if it were located at 10 pc ($3.086\\times 10^{14}$km or 33 light years) from the Earth."
   ]
  },
  {
   "cell_type": "markdown",
   "metadata": {},
   "source": [
    "## The Cepheid Period-Luminosity Relation:\n",
    "Below is an example of how Cepheid light curves vary with luminosity (or absolute magnitude):\n",
    "\n",
    "<img src=\"figures/Cepheids.gif\" width=\"400\">"
   ]
  },
  {
   "cell_type": "markdown",
   "metadata": {},
   "source": [
    "## The case of Cepheid I25811 in the galaxy NGC4258\n",
    "We measured the recession velocity of the galaxy NGC4358 above from the galaxy emission line spectrum. Cepheid I25811 is a Cepheid variable in NGC4358. Can you use it's light curve shown below to determine its distance in Mpc?\n",
    "\n",
    "### 1) Using the two plots below, estimate the absolute magnitude of Cepheid I25811\n",
    "\n",
    "<table><tr><td><img src=\"figures/CepheidI25811.png\" width=\"700\"></td><td><img src=\"figures/period_luminosity_cepheids-b.GIF\"></td></tr></table>"
   ]
  },
  {
   "cell_type": "markdown",
   "metadata": {},
   "source": [
    "### From absolute magnitude to distance, d:\n",
    "The best-fit relation between the absolute magnitude of a Cepheid in the $V$ band, $M_V$, and the period $P$ is:\n",
    "\n",
    "&nbsp;&nbsp;&nbsp;&nbsp;&nbsp;&nbsp;&nbsp;&nbsp;&nbsp;&nbsp;&nbsp;&nbsp;&nbsp;&nbsp;&nbsp;&nbsp;&nbsp;&nbsp;&nbsp;&nbsp;&nbsp;&nbsp;&nbsp;&nbsp;$M_V = -1.43-2.81\\log(P)$\n",
    "   \n",
    "Using a Cepheid's absolute and apparent magnitude, it is then possible to determine the distance to the Cepheid using the following relation, referred to as the distance modulus, or $DM$:\n",
    "\n",
    "&nbsp;&nbsp;&nbsp;&nbsp;&nbsp;&nbsp;&nbsp;&nbsp;&nbsp;&nbsp;&nbsp;&nbsp;&nbsp;&nbsp;&nbsp;&nbsp;&nbsp;&nbsp;&nbsp;&nbsp;&nbsp;&nbsp;&nbsp;&nbsp;$DM = m-M = 5\\log(d/10\\rm{pc})$\n",
    "\n",
    "which can be rearranged to give the distane in terms of $m$ and $M$ in units of Mpc:\n",
    "\n",
    "&nbsp;&nbsp;&nbsp;&nbsp;&nbsp;&nbsp;&nbsp;&nbsp;&nbsp;&nbsp;&nbsp;&nbsp;&nbsp;&nbsp;&nbsp;&nbsp;&nbsp;&nbsp;&nbsp;&nbsp;&nbsp;&nbsp;&nbsp;&nbsp;$d (\\rm{Mpc}) = 10^{((m-M-25)/5)}$\n",
    "\n",
    "### 2) Use the equations above to determine the distance (in Mpc) to Cepheid I25811"
   ]
  },
  {
   "cell_type": "code",
   "execution_count": null,
   "metadata": {},
   "outputs": [],
   "source": []
  },
  {
   "cell_type": "markdown",
   "metadata": {},
   "source": [
    "# Part 3: Determining $H_0$"
   ]
  },
  {
   "cell_type": "markdown",
   "metadata": {},
   "source": [
    "We have now measured both the distance and recessional velocity of the nearby galaxy NGC4258. Edwin Hubble had access to a large dataset of recessional velocities from a research paper by Vesto Slipherm, additionally, he had measured distances using the Cepheid method. Hubble then plotted the recessional velocities of his sample of galaxies against their distances, to find a correlation between the two.\n",
    "\n",
    "We will use an improved data set to apply the same method as Edwin Hubble and thus measure the hubble constant, $H_0$."
   ]
  },
  {
   "cell_type": "code",
   "execution_count": null,
   "metadata": {},
   "outputs": [],
   "source": [
    "# Load in module needed to plot and fit data\n",
    "from plotdata import HubbleDiagram, linfit\n",
    "\n",
    "# Code to plot data distance, D, and recession velocity, Rvel, for a sample of galaxies\n",
    "D,Rvel = readdata(\"Freedman.csv\")\n",
    "HubbleDiagram(D,Rvel)\n",
    "plt.plot()"
   ]
  },
  {
   "cell_type": "markdown",
   "metadata": {},
   "source": [
    "### 1) Try and plot the distance and recession velocity of NGC4258 on the Hubble Diagram above"
   ]
  },
  {
   "cell_type": "code",
   "execution_count": null,
   "metadata": {},
   "outputs": [],
   "source": []
  },
  {
   "cell_type": "markdown",
   "metadata": {},
   "source": [
    "### 2) How can we infer $H_0$ from the above data?\n",
    "**Remember:** the Hubble Constant corresponds to the rate of change in velocity as a function of distance \n",
    "\n",
    "&nbsp;&nbsp;&nbsp;&nbsp;&nbsp;&nbsp;&nbsp;&nbsp;&nbsp;&nbsp;&nbsp;&nbsp;&nbsp;&nbsp;&nbsp;&nbsp;&nbsp;&nbsp;&nbsp;&nbsp;&nbsp;&nbsp;&nbsp;&nbsp;$H_0 = v_{rec}/D$"
   ]
  },
  {
   "cell_type": "code",
   "execution_count": null,
   "metadata": {},
   "outputs": [],
   "source": []
  },
  {
   "cell_type": "markdown",
   "metadata": {},
   "source": [
    "### Try plotting the best-fit linear relation over the data points"
   ]
  },
  {
   "cell_type": "code",
   "execution_count": null,
   "metadata": {},
   "outputs": [],
   "source": [
    "# Code to plot data with line-of-best-fit\n",
    "H0,H0_err = linfit(D,Rvel)\n",
    "x=y=np.arange(20)+2.5\n",
    "y=x*H0\n",
    "HubbleDiagram(D,Rvel)\n",
    "HubbleDiagram(x,y,m=',',col='k',line='solid')"
   ]
  },
  {
   "cell_type": "markdown",
   "metadata": {},
   "source": [
    "## The age of the Universe\n",
    "To estimate the age of the Universe we should consider that at $t=0$ all galaxies were clustered together. Therefore, the time taken for the galaxies to lie at distance $D$ from Earth is:\n",
    "\n",
    "&nbsp;&nbsp;&nbsp;&nbsp;&nbsp;&nbsp;&nbsp;&nbsp;&nbsp;&nbsp;&nbsp;&nbsp;&nbsp;&nbsp;&nbsp;&nbsp;&nbsp;&nbsp;&nbsp;&nbsp;&nbsp;&nbsp;&nbsp;&nbsp;$t_H = D/v_{rec} = 1/H_0$\n",
    "\n",
    "### 3) Estimate the age of the Universe using the value of $H_0$ that you determined above\n",
    "**Be careful with units!!**\n",
    "\n",
    "**Tips**: 1 Mpc = $3.086\\times 10^{19}$ km, 1 yr = $3.16\\times 10^7$ s"
   ]
  },
  {
   "cell_type": "code",
   "execution_count": null,
   "metadata": {},
   "outputs": [],
   "source": []
  },
  {
   "cell_type": "code",
   "execution_count": null,
   "metadata": {},
   "outputs": [],
   "source": []
  }
 ],
 "metadata": {
  "kernelspec": {
   "display_name": "Python 3",
   "language": "python",
   "name": "python3"
  },
  "language_info": {
   "codemirror_mode": {
    "name": "ipython",
    "version": 3
   },
   "file_extension": ".py",
   "mimetype": "text/x-python",
   "name": "python",
   "nbconvert_exporter": "python",
   "pygments_lexer": "ipython3",
   "version": "3.8.2"
  }
 },
 "nbformat": 4,
 "nbformat_minor": 2
}
